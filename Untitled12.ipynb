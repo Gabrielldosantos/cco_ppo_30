{
  "nbformat": 4,
  "nbformat_minor": 0,
  "metadata": {
    "colab": {
      "provenance": [],
      "authorship_tag": "ABX9TyPagtb4+6FCMgvOcsWSz7qN",
      "include_colab_link": true
    },
    "kernelspec": {
      "name": "python3",
      "display_name": "Python 3"
    },
    "language_info": {
      "name": "python"
    }
  },
  "cells": [
    {
      "cell_type": "markdown",
      "metadata": {
        "id": "view-in-github",
        "colab_type": "text"
      },
      "source": [
        "<a href=\"https://colab.research.google.com/github/Gabrielldosantos/cco_ppo_30/blob/main/Untitled12.ipynb\" target=\"_parent\"><img src=\"https://colab.research.google.com/assets/colab-badge.svg\" alt=\"Open In Colab\"/></a>"
      ]
    },
    {
      "cell_type": "code",
      "execution_count": 15,
      "metadata": {
        "colab": {
          "base_uri": "https://localhost:8080/"
        },
        "id": "nu3O7g_gdJLa",
        "outputId": "2e4106e1-230b-4dde-c4c5-1c8eb6e35710"
      },
      "outputs": [
        {
          "output_type": "stream",
          "name": "stdout",
          "text": [
            "Digite Valor em Graus Farenheit:50\n",
            "o valor de 50.0°f corresponde ao valor de 10.0°c \n"
          ]
        }
      ],
      "source": [
        "f = float(input(\"Digite Valor em Graus Farenheit:\"))\n",
        "c = (5/9)*(f-32)\n",
        "print(f\"o valor de {f}°f corresponde ao valor de {c}°c \")"
      ]
    }
  ]
}