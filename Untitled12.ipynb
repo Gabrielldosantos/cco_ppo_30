{
  "nbformat": 4,
  "nbformat_minor": 0,
  "metadata": {
    "colab": {
      "provenance": [],
      "authorship_tag": "ABX9TyOV1yjrJS8aj0s6xMi9xjCw",
      "include_colab_link": true
    },
    "kernelspec": {
      "name": "python3",
      "display_name": "Python 3"
    },
    "language_info": {
      "name": "python"
    }
  },
  "cells": [
    {
      "cell_type": "markdown",
      "metadata": {
        "id": "view-in-github",
        "colab_type": "text"
      },
      "source": [
        "<a href=\"https://colab.research.google.com/github/Gabrielldosantos/cco_ppo_30/blob/main/Untitled12.ipynb\" target=\"_parent\"><img src=\"https://colab.research.google.com/assets/colab-badge.svg\" alt=\"Open In Colab\"/></a>"
      ]
    },
    {
      "cell_type": "code",
      "execution_count": 15,
      "metadata": {
        "colab": {
          "base_uri": "https://localhost:8080/"
        },
        "id": "nu3O7g_gdJLa",
        "outputId": "2e4106e1-230b-4dde-c4c5-1c8eb6e35710"
      },
      "outputs": [
        {
          "output_type": "stream",
          "name": "stdout",
          "text": [
            "Digite Valor em Graus Farenheit:50\n",
            "o valor de 50.0°f corresponde ao valor de 10.0°c \n"
          ]
        }
      ],
      "source": [
        "f = float(input(\"Digite Valor em Graus Farenheit:\"))\n",
        "c = (5/9)*(f-32)\n",
        "print(f\"o valor de {f}°f corresponde ao valor de {c}°c \")"
      ]
    },
    {
      "cell_type": "markdown",
      "source": [
        "#ex02) converter polegadas para mm\n",
        "entrada: p\n",
        "processamento: mm = p*25.4\n",
        "saida: mm"
      ],
      "metadata": {
        "id": "CqneSB37kWvS"
      }
    },
    {
      "cell_type": "code",
      "source": [
        "p = float(input(\"digite o valor em polegadas: \"))\n",
        "mm = p*25.4\n",
        "print(f\"o valor de {p}pol corresponde ao valor de {mm}mm\")"
      ],
      "metadata": {
        "colab": {
          "base_uri": "https://localhost:8080/"
        },
        "id": "m-jJuyEFkZWi",
        "outputId": "5c574836-999f-4eca-b623-6fb58e528f59"
      },
      "execution_count": 18,
      "outputs": [
        {
          "output_type": "stream",
          "name": "stdout",
          "text": [
            "digite o valor em polegadas: 47\n",
            "o valor de 47.0pol corresponde ao valor de 1193.8mm\n"
          ]
        }
      ]
    },
    {
      "cell_type": "markdown",
      "source": [
        "#ex03) converter milimetros para pol\n",
        "entrada: mm\n",
        "processamento: pol =mm/25.4\n",
        "saida: pol"
      ],
      "metadata": {
        "id": "dF5kEqGflvlc"
      }
    },
    {
      "cell_type": "code",
      "source": [
        "mm = float(input(\"digite o valor em milimetros: \"))\n",
        "p = mm/25.4\n",
        "print(f\"o valor de {mm}milimetros corresponde ao valor de {p}pol\")"
      ],
      "metadata": {
        "colab": {
          "base_uri": "https://localhost:8080/"
        },
        "id": "s2PLg9eAmWfs",
        "outputId": "d8228ffe-8104-42bb-99f2-50ef463e629a"
      },
      "execution_count": 21,
      "outputs": [
        {
          "output_type": "stream",
          "name": "stdout",
          "text": [
            "digite o valor em milimetros: 1193.8\n",
            "o valor de 1193.8milimetros corresponde ao valor de 47.0pol\n"
          ]
        }
      ]
    },
    {
      "cell_type": "markdown",
      "source": [
        "#ex04) solicitar que o usuario digite sua idade\n",
        "idade = int(input(\"digite o valor da idade: \"))\n",
        "if = 16<= idade < 70:\n",
        "print(\" voce esta dentro da faixa de idade. \")\n",
        "else:\n",
        "print(\" voce esta fora da faixa hetaria. \")\n"
      ],
      "metadata": {
        "id": "rssCt5vxnLhs"
      }
    },
    {
      "cell_type": "code",
      "source": [
        "idade = int(input(\"digite o valor da idade: \"))\n",
        "if 16 <= idade <=70:\n",
        "  print(\"voce esta na faixa etaria entre 16 e 70 anos.\")\n",
        "else:\n",
        "  print(\"voce esta fora da faixa hetaria.\")"
      ],
      "metadata": {
        "colab": {
          "base_uri": "https://localhost:8080/"
        },
        "id": "KaXsPb0vod_o",
        "outputId": "7412099c-e90a-4682-fb08-3111db4d224f"
      },
      "execution_count": 39,
      "outputs": [
        {
          "output_type": "stream",
          "name": "stdout",
          "text": [
            "digite o valor da idade: 45\n",
            "voce esta na faixa etaria entre 16 e 70 anos.\n"
          ]
        }
      ]
    }
  ]
}